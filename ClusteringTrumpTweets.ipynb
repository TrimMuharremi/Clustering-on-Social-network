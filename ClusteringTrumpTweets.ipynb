{
 "cells": [
  {
   "cell_type": "code",
   "execution_count": 24,
   "metadata": {},
   "outputs": [],
   "source": [
    "%matplotlib inline\n",
    "import nltk.data;\n",
    "from gensim.models import word2vec;\n",
    "from sklearn.cluster import KMeans;\n",
    "import pandas as pd;\n",
    "import numpy as np;\n",
    "import os;\n",
    "import re;\n",
    "import sys;\n",
    "from nltk.corpus import stopwords\n",
    "import multiprocessing;\n",
    "from wordcloud import WordCloud, ImageColorGenerator\n",
    "import matplotlib.pyplot as plt;\n",
    "from itertools import cycle;\n",
    "tokenizer = nltk.data.load('tokenizers/punkt/english.pickle');\n",
    "from nltk.stem import PorterStemmer\n",
    "from sklearn.neighbors import KDTree;\n",
    "from nltk.tokenize import word_tokenize ,sent_tokenize\n",
    "ps=PorterStemmer()"
   ]
  },
  {
   "cell_type": "code",
   "execution_count": 4,
   "metadata": {},
   "outputs": [],
   "source": [
    "mydata =  pd.read_csv('trump.txt',sep=\",\")"
   ]
  },
  {
   "cell_type": "code",
   "execution_count": 5,
   "metadata": {},
   "outputs": [
    {
     "name": "stdout",
     "output_type": "stream",
     "text": [
      "               source                                               text  \\\n",
      "0  Twitter for iPhone  Mexico is sending a big delegation to talk abo...   \n",
      "1  Twitter for iPhone  Peggy Noonan the simplistic writer for Trump H...   \n",
      "2  Twitter for iPhone  RT @realDonaldTrump: THE TRUTH! The Witch Hunt...   \n",
      "3  Twitter for iPhone  RT @realDonaldTrump: GREAT NEWS! #MAGA https:/...   \n",
      "4  Twitter for iPhone  I never called Meghan Markle “nasty.” Made up ...   \n",
      "\n",
      "            created_at  retweet_count  favorite_count is_retweet  \\\n",
      "0  06-02-2019 18:19:47          23726           90265      False   \n",
      "1  06-02-2019 18:13:04          14462           58856      False   \n",
      "2  06-02-2019 13:00:57          15211               0       True   \n",
      "3  06-02-2019 12:45:31          20071               0       True   \n",
      "4  06-02-2019 12:44:24          23197           92749      False   \n",
      "\n",
      "                id_str  \n",
      "0  1135249668751929345  \n",
      "1  1135247979617685504  \n",
      "2  1135169433020915715  \n",
      "3  1135165545408598016  \n",
      "4  1135165268261519361  \n"
     ]
    }
   ],
   "source": [
    "print (mydata.head())"
   ]
  },
  {
   "cell_type": "code",
   "execution_count": 6,
   "metadata": {},
   "outputs": [
    {
     "name": "stdout",
     "output_type": "stream",
     "text": [
      "22819\n"
     ]
    }
   ],
   "source": [
    "total_rows = len(mydata);\n",
    "print(total_rows)"
   ]
  },
  {
   "cell_type": "code",
   "execution_count": 7,
   "metadata": {},
   "outputs": [],
   "source": [
    "stop_words = set(stopwords.words('english'))\n",
    "#print(stop_words)"
   ]
  },
  {
   "cell_type": "code",
   "execution_count": 9,
   "metadata": {},
   "outputs": [],
   "source": [
    "def clean_text(all_tweets, filesave):\n",
    "    \n",
    "    out_file = open(filesave, 'w');\n",
    "    \n",
    "    for pos in range(len(all_tweets)):\n",
    "    \n",
    "        #Get the comment\n",
    "        val = all_tweets.iloc[pos]['text'];\n",
    "        \n",
    "        #Normalize tabs and remove newlines\n",
    "        no_tabs = str(val).replace('\\t', ' ').replace('\\n', '');\n",
    "        \n",
    "        #Remove all characters except A-Z and a dot.\n",
    "        alphas_only = re.sub(\"[^a-zA-Z\\.]\", \" \", no_tabs);\n",
    "        \n",
    "        #Normalize spaces to 1\n",
    "        multi_spaces = re.sub(\" +\", \" \", alphas_only);\n",
    "        \n",
    "        #Strip trailing and leading spaces\n",
    "        no_spaces = multi_spaces.strip();\n",
    "        \n",
    "        #Normalize all charachters to lowercase\n",
    "        clean_text = no_spaces.lower();\n",
    "        \n",
    "        #Get sentences from the tokenizer, remove the dot in each.\n",
    "        sentences = tokenizer.tokenize(clean_text);\n",
    "        sentences = [re.sub(\"[\\.]\", \"\", sentence) for sentence in sentences];\n",
    "\n",
    "        stop_words = set(stopwords.words('english')) \n",
    "        stop_words2 = ['poll''https','th','wh','dc','amp','pmo','tco','yth','iq','ol','ry','zh','de','ij','evo','eq','pu','un','fj','xcz','ing','rt']\n",
    "        \n",
    "        filtered_text =[]\n",
    "        all_words=[]\n",
    "             \n",
    "        for i in sentences:\n",
    "            for w in i:\n",
    "                all_words.append(ps.stem(i))\n",
    "        \n",
    "        for sentence in sentences:\n",
    "                filtered_text.append(' '.join(ps.stem(w) for w in nltk.word_tokenize(sentence) if w not in stop_words and w not in stop_words2 and len(w)>2))   \n",
    "       \n",
    "    #If the text has more than one space (removing single word comments) and one character, write it to the file.\n",
    "      \n",
    "        if len(filtered_text)>=2 and filtered_text.count(' ') >=0:\n",
    "            for sentence in filtered_text:\n",
    "                out_file.write(\"%s\\n\" % sentence)\n",
    "                #print(sentence);\n",
    "                    \n",
    "    out_file.close();"
   ]
  },
  {
   "cell_type": "code",
   "execution_count": 10,
   "metadata": {
    "scrolled": true
   },
   "outputs": [],
   "source": [
    "clean_tweets = clean_text(mydata,\"savetext.txt\")"
   ]
  },
  {
   "cell_type": "code",
   "execution_count": 11,
   "metadata": {},
   "outputs": [
    {
     "name": "stderr",
     "output_type": "stream",
     "text": [
      "C:\\Users\\trimm\\Anaconda1\\lib\\site-packages\\gensim\\models\\base_any2vec.py:743: UserWarning: C extension not loaded, training will be slow. Install a C compiler and reinstall gensim for fast training.\n",
      "  \"C extension not loaded, training will be slow. \"\n"
     ]
    }
   ],
   "source": [
    "\n",
    "# Set values for various parameters\n",
    "num_features =10;    # Dimensionality of the hidden layer representation\n",
    "min_word_count = 50;   # Minimum word count to keep a word in the vocabulary\n",
    "num_workers = multiprocessing.cpu_count();       # Number of threads to run in parallel set to total number of cpus.\n",
    "                                                     \n",
    "# Initialize and train the model. \n",
    "#The LineSentence object allows us to pass in a file name directly as input to Word2Vec\n",
    "model = word2vec.Word2Vec(word2vec.LineSentence('savetext.txt'), workers=num_workers,\n",
    "            size=num_features, min_count = min_word_count);\n",
    "model.init_sims(replace=True);\n",
    "# Save the model in trump_tweets\n",
    "model_name = \"trump_tweets\";\n",
    "model.save(model_name);"
   ]
  },
  {
   "cell_type": "code",
   "execution_count": 29,
   "metadata": {},
   "outputs": [],
   "source": [
    "def clustering_on_word2vecs(word_vectors, num_clusters):\n",
    "    # Initalize a k-means object and use it to extract centroids\n",
    "    kmeans_clustering = KMeans(n_clusters = num_clusters, init='random');\n",
    "    idx = kmeans_clustering.fit_predict(word_vectors);\n",
    "    \n",
    "    return kmeans_clustering.cluster_centers_, idx,kmeans_clustering;"
   ]
  },
  {
   "cell_type": "code",
   "execution_count": 30,
   "metadata": {},
   "outputs": [
    {
     "name": "stdout",
     "output_type": "stream",
     "text": [
      "709\n"
     ]
    },
    {
     "name": "stderr",
     "output_type": "stream",
     "text": [
      "C:\\Users\\trimm\\Anaconda1\\lib\\site-packages\\ipykernel_launcher.py:2: DeprecationWarning: Call to deprecated `syn0` (Attribute will be removed in 4.0.0, use self.vectors instead).\n",
      "  \n"
     ]
    }
   ],
   "source": [
    "# Keeping the most used words\n",
    "Z = model.wv.syn0;\n",
    "print(len(Z))"
   ]
  },
  {
   "cell_type": "code",
   "execution_count": 31,
   "metadata": {},
   "outputs": [
    {
     "data": {
      "image/png": "[encoded data removed]",
      "text/plain": [
       "<Figure size 432x288 with 1 Axes>"
      ]
     },
     "metadata": {
      "needs_background": "light"
     },
     "output_type": "display_data"
    }
   ],
   "source": [
    "d = []\n",
    "for i in range(1, 11):\n",
    "    km = KMeans(\n",
    "        n_clusters=i, init='random')\n",
    "    km.fit(Z)\n",
    "    d.append(km.inertia_)\n",
    "\n",
    "# plot\n",
    "plt.plot(range(1, 11), d, marker='o')\n",
    "plt.xlabel('Number of clusters')\n",
    "plt.ylabel('sum of square error')\n",
    "plt.show()\n",
    "\n"
   ]
  },
  {
   "cell_type": "code",
   "execution_count": 32,
   "metadata": {},
   "outputs": [],
   "source": [
    "centers, clusters,km = clustering_on_word2vecs(Z, 4);\n",
    "centroid_map = dict(zip(model.wv.index2word, clusters));"
   ]
  },
  {
   "cell_type": "code",
   "execution_count": 33,
   "metadata": {},
   "outputs": [],
   "source": [
    "def display_cloud(cluster_num, cmap):\n",
    "    wc = WordCloud(background_color=\"white\", max_words=200, max_font_size=80, colormap=cmap);\n",
    "    wordcloud = wc.generate(' '.join([word for word in top_words['Cluster #' + str(cluster_num).zfill(2)]]))\n",
    "    plt.imshow(wordcloud, interpolation='bilinear')\n",
    "    plt.axis(\"off\")\n",
    "    plt.savefig('cluster_' + str(cluster_num) )"
   ]
  },
  {
   "cell_type": "code",
   "execution_count": 34,
   "metadata": {},
   "outputs": [],
   "source": [
    "def get_top_words(index2word, k, centers, wordvecs):\n",
    "    tree = KDTree(wordvecs);"
   ]
  },
  {
   "cell_type": "code",
   "execution_count": 35,
   "metadata": {},
   "outputs": [],
   "source": [
    "top_words = get_top_words(model.wv.index2word, 5000, centers, Z)"
   ]
  },
  {
   "cell_type": "code",
   "execution_count": null,
   "metadata": {
    "scrolled": true
   },
   "outputs": [],
   "source": [
    "cmaps = cycle(['flag', 'prism', 'ocean'])\n",
    "for i in range(4):\n",
    "    col = next(cmaps);\n",
    "    display_cloud(i+1, col)"
   ]
  },
  {
   "cell_type": "code",
   "execution_count": 43,
   "metadata": {},
   "outputs": [],
   "source": [
    "def get_word_table(table, key, sim_key='similarity', show_sim = True):\n",
    "    if show_sim == True:\n",
    "        return pd.DataFrame(table, columns=[key, sim_key])\n",
    "    else:\n",
    "        return pd.DataFrame(table, columns=[key, sim_key])[key]\n",
    "    "
   ]
  },
  {
   "cell_type": "code",
   "execution_count": 38,
   "metadata": {
    "scrolled": true
   },
   "outputs": [
    {
     "data": {
      "text/html": [
       "<div>\n",
       "<style scoped>\n",
       "    .dataframe tbody tr th:only-of-type {\n",
       "        vertical-align: middle;\n",
       "    }\n",
       "\n",
       "    .dataframe tbody tr th {\n",
       "        vertical-align: top;\n",
       "    }\n",
       "\n",
       "    .dataframe thead th {\n",
       "        text-align: right;\n",
       "    }\n",
       "</style>\n",
       "<table border=\"1\" class=\"dataframe\">\n",
       "  <thead>\n",
       "    <tr style=\"text-align: right;\">\n",
       "      <th></th>\n",
       "      <th>win</th>\n",
       "      <th>clinton</th>\n",
       "      <th>trump</th>\n",
       "      <th>obama</th>\n",
       "      <th>america</th>\n",
       "      <th>republican</th>\n",
       "    </tr>\n",
       "  </thead>\n",
       "  <tbody>\n",
       "    <tr>\n",
       "      <th>0</th>\n",
       "      <td>primari</td>\n",
       "      <td>crook</td>\n",
       "      <td>donald</td>\n",
       "      <td>investig</td>\n",
       "      <td>safe</td>\n",
       "      <td>senat</td>\n",
       "    </tr>\n",
       "    <tr>\n",
       "      <th>1</th>\n",
       "      <td>congratul</td>\n",
       "      <td>campaign</td>\n",
       "      <td>presid</td>\n",
       "      <td>obstruct</td>\n",
       "      <td>let</td>\n",
       "      <td>vote</td>\n",
       "    </tr>\n",
       "    <tr>\n",
       "      <th>2</th>\n",
       "      <td>saturday</td>\n",
       "      <td>fbi</td>\n",
       "      <td>run</td>\n",
       "      <td>spi</td>\n",
       "      <td>togeth</td>\n",
       "      <td>congress</td>\n",
       "    </tr>\n",
       "    <tr>\n",
       "      <th>3</th>\n",
       "      <td>tuesday</td>\n",
       "      <td>beat</td>\n",
       "      <td>via</td>\n",
       "      <td>angri</td>\n",
       "      <td>make</td>\n",
       "      <td>pass</td>\n",
       "    </tr>\n",
       "    <tr>\n",
       "      <th>4</th>\n",
       "      <td>mike</td>\n",
       "      <td>email</td>\n",
       "      <td>android</td>\n",
       "      <td>email</td>\n",
       "      <td>great</td>\n",
       "      <td>parti</td>\n",
       "    </tr>\n",
       "    <tr>\n",
       "      <th>5</th>\n",
       "      <td>live</td>\n",
       "      <td>investig</td>\n",
       "      <td>realdonaldtrump</td>\n",
       "      <td>rig</td>\n",
       "      <td>keep</td>\n",
       "      <td>enforc</td>\n",
       "    </tr>\n",
       "    <tr>\n",
       "      <th>6</th>\n",
       "      <td>gop</td>\n",
       "      <td>comey</td>\n",
       "      <td>debat</td>\n",
       "      <td>dem</td>\n",
       "      <td>maga</td>\n",
       "      <td>bill</td>\n",
       "    </tr>\n",
       "    <tr>\n",
       "      <th>7</th>\n",
       "      <td>hampshir</td>\n",
       "      <td>total</td>\n",
       "      <td>foxandfriend</td>\n",
       "      <td>elect</td>\n",
       "      <td>god</td>\n",
       "      <td>pelosi</td>\n",
       "    </tr>\n",
       "    <tr>\n",
       "      <th>8</th>\n",
       "      <td>victori</td>\n",
       "      <td>russian</td>\n",
       "      <td>web</td>\n",
       "      <td>system</td>\n",
       "      <td>bless</td>\n",
       "      <td>weak</td>\n",
       "    </tr>\n",
       "    <tr>\n",
       "      <th>9</th>\n",
       "      <td>ohio</td>\n",
       "      <td>collus</td>\n",
       "      <td>watch</td>\n",
       "      <td>campaign</td>\n",
       "      <td>http</td>\n",
       "      <td>commit</td>\n",
       "    </tr>\n",
       "  </tbody>\n",
       "</table>\n",
       "</div>"
      ],
      "text/plain": [
       "         win   clinton            trump     obama america republican\n",
       "0    primari     crook           donald  investig    safe      senat\n",
       "1  congratul  campaign           presid  obstruct     let       vote\n",
       "2   saturday       fbi              run       spi  togeth   congress\n",
       "3    tuesday      beat              via     angri    make       pass\n",
       "4       mike     email          android     email   great      parti\n",
       "5       live  investig  realdonaldtrump       rig    keep     enforc\n",
       "6        gop     comey            debat       dem    maga       bill\n",
       "7   hampshir     total     foxandfriend     elect     god     pelosi\n",
       "8    victori   russian              web    system   bless       weak\n",
       "9       ohio    collus            watch  campaign    http     commit"
      ]
     },
     "execution_count": 38,
     "metadata": {},
     "output_type": "execute_result"
    }
   ],
   "source": [
    "keys = ['win', 'clinton', 'trump', 'obama', 'america',  'republican', ];\n",
    "tables = [];\n",
    "for key in keys:\n",
    "    tables.append(get_word_table(model.wv.similar_by_word(key), key, show_sim=False))\n",
    "    \n",
    "pd.concat(tables, axis=1)"
   ]
  },
  {
   "cell_type": "code",
   "execution_count": 40,
   "metadata": {},
   "outputs": [
    {
     "data": {
      "image/png": "[encoded data removed]",
      "text/plain": [
       "<Figure size 432x288 with 1 Axes>"
      ]
     },
     "metadata": {
      "needs_background": "light"
     },
     "output_type": "display_data"
    }
   ],
   "source": [
    "plt.scatter(\n",
    "    Z[clusters == 0, 0], Z[clusters == 0, 1],\n",
    "    s=50, c='lightgreen',\n",
    "    marker='s', edgecolor='black',\n",
    "    label='cluster 1'\n",
    ")\n",
    "\n",
    "plt.scatter(\n",
    "    Z[clusters == 1, 0], Z[clusters== 1, 1],\n",
    "    s=50, c='orange',\n",
    "    marker='o', edgecolor='black',\n",
    "    label='cluster 2'\n",
    ")\n",
    "\n",
    "plt.scatter(\n",
    "    Z[clusters == 2, 0], Z[clusters== 2, 1],\n",
    "    s=50, c='lightblue',\n",
    "    marker='v', edgecolor='black',\n",
    "    label='cluster 3'\n",
    ")\n",
    "\n",
    "plt.scatter(\n",
    "    Z[clusters == 3, 0], Z[clusters== 3, 1],\n",
    "    s=50, c='blue',\n",
    "    marker='v', edgecolor='black',\n",
    "    label='cluster 4'\n",
    ")\n",
    "\n",
    "#plt.scatter(\n",
    " #   Z[clusters == 4, 0], Z[clusters== 4, 1],\n",
    "  #  s=50, c='yellow',\n",
    "   # marker='v', edgecolor='black',\n",
    "   # label='cluster 5'\n",
    "#)\n",
    "\n",
    "# plot the centroids\n",
    "plt.scatter(\n",
    "    km.cluster_centers_[:, 0], km.cluster_centers_[:, 1],\n",
    "    s=250, marker='*',\n",
    "    c='red', edgecolor='black',\n",
    "    label='centroids'\n",
    ")\n",
    "plt.legend(scatterpoints=1)\n",
    "plt.grid()\n",
    "plt.show()"
   ]
  },
  {
   "cell_type": "code",
   "execution_count": null,
   "metadata": {},
   "outputs": [],
   "source": []
  },
  {
   "cell_type": "code",
   "execution_count": null,
   "metadata": {},
   "outputs": [],
   "source": []
  },
  {
   "cell_type": "code",
   "execution_count": null,
   "metadata": {},
   "outputs": [],
   "source": []
  },
  {
   "cell_type": "code",
   "execution_count": null,
   "metadata": {},
   "outputs": [],
   "source": []
  },
  {
   "cell_type": "code",
   "execution_count": null,
   "metadata": {},
   "outputs": [],
   "source": []
  }
 ],
 "metadata": {
  "kernelspec": {
   "display_name": "Python 3",
   "language": "python",
   "name": "python3"
  },
  "language_info": {
   "codemirror_mode": {
    "name": "ipython",
    "version": 3
   },
   "file_extension": ".py",
   "mimetype": "text/x-python",
   "name": "python",
   "nbconvert_exporter": "python",
   "pygments_lexer": "ipython3",
   "version": "3.7.3"
  }
 },
 "nbformat": 4,
 "nbformat_minor": 2
}
